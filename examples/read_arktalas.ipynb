{
 "cells": [
  {
   "cell_type": "code",
   "execution_count": null,
   "id": "d21245b7",
   "metadata": {},
   "outputs": [],
   "source": [
    "from datetime import datetime, timedelta\n",
    "import numpy  as np\n",
    "import pandas as pd\n",
    "import matplotlib.pyplot as plt\n",
    "\n",
    "from pysida.lib import get_deformation_from_pair, get_triangulation, Pair"
   ]
  },
  {
   "cell_type": "code",
   "execution_count": null,
   "id": "29ee1df9",
   "metadata": {},
   "outputs": [],
   "source": [
    "# Converting database to pandas DataFrame\n",
    "\"\"\"\n",
    "with read_engine.connect() as conn:\n",
    "    conn.execute(text(\"SET TRANSACTION ISOLATION LEVEL READ COMMITTED\"))\n",
    "\n",
    "    # Read only the filtered points from the database\n",
    "    points = gpd.read_postgis(\n",
    "        sql_query,\n",
    "        conn,\n",
    "        geom_col='geometry'\n",
    "    )\n",
    "\n",
    "# 'points' contains only the data for trajectories with more than 1 point\n",
    "points_df = pd.DataFrame(points.drop(columns=['geometry', 'descriptors']))\n",
    "points_df['x'] = points.geometry.x\n",
    "points_df['y'] = points.geometry.y\n",
    "\n",
    "points_df.to_feather('points.feather')\n",
    "\"\"\""
   ]
  },
  {
   "cell_type": "code",
   "execution_count": null,
   "id": "d3382e29",
   "metadata": {},
   "outputs": [],
   "source": [
    "class GetRgpsPairsIm2:\n",
    "    def __init__(self, df, max_time_diff, min_time_diff, min_size, r_min, a_max):\n",
    "        self.df = df\n",
    "        self.max_time_diff = max_time_diff\n",
    "        self.min_time_diff = min_time_diff\n",
    "        self.min_size = min_size\n",
    "        self.r_min = r_min\n",
    "        self.a_max = a_max\n",
    "\n",
    "    def __call__(self, im2):\n",
    "        pairs = []\n",
    "        df2 = self.df[self.df.i == im2]\n",
    "        d2 = df2.iloc[0].d\n",
    "\n",
    "        gpi = (\n",
    "            (self.df.d >= (d2 - timedelta(self.max_time_diff))) *\n",
    "            (self.df.d <= (d2 - timedelta(self.min_time_diff)))\n",
    "        )\n",
    "        im1_idx = np.unique(self.df[gpi].i)\n",
    "        for im1 in im1_idx:\n",
    "            df1 = self.df[self.df.i == im1]\n",
    "            _, i1, i2 = np.intersect1d(df1.g, df2.g, return_indices=True)\n",
    "            if i1.size > self.min_size:\n",
    "\n",
    "                x0 = df1.iloc[i1].x.to_numpy()\n",
    "                x1 = df2.iloc[i2].x.to_numpy()\n",
    "                y0 = df1.iloc[i1].y.to_numpy()\n",
    "                y1 = df2.iloc[i2].y.to_numpy()\n",
    "                q0 = df1.iloc[i1].q.to_numpy()\n",
    "                q1 = df2.iloc[i2].q.to_numpy()\n",
    "\n",
    "                t, a, p = get_triangulation(x0, y0)\n",
    "                r = np.sqrt(a) / p\n",
    "                g = (r >= self.r_min) * (a <= self.a_max)\n",
    "                if g[g].size == 0:\n",
    "                    continue\n",
    "\n",
    "                pairs.append(Pair(\n",
    "                    x0 = x0.astype(np.float32),\n",
    "                    x1 = x1.astype(np.float32),\n",
    "                    y0 = y0.astype(np.float32),\n",
    "                    y1 = y1.astype(np.float32),\n",
    "                    d0 = df1.iloc[i1[0]].d,\n",
    "                    d1 = df2.iloc[i2[0]].d,\n",
    "                    t = t,\n",
    "                    a = a.astype(np.float32),\n",
    "                    p = p.astype(np.float32),\n",
    "                    g = g,\n",
    "                    q0 = q0.astype(np.float32),\n",
    "                    q1 = q1.astype(np.float32),\n",
    "                ))\n",
    "        return pairs"
   ]
  },
  {
   "cell_type": "code",
   "execution_count": null,
   "id": "20212cec",
   "metadata": {},
   "outputs": [],
   "source": [
    "points = pd.read_feather('points.feather')"
   ]
  },
  {
   "cell_type": "code",
   "execution_count": null,
   "id": "21c59db1",
   "metadata": {},
   "outputs": [],
   "source": [
    "df = points[['image_id', 'trajectory_id', 'time', 'x', 'y', 'corr']].copy().rename(columns={'image_id':'i', 'trajectory_id': 'g', 'time':'d', 'x':'x', 'y':'y', 'corr':'q'})"
   ]
  },
  {
   "cell_type": "code",
   "execution_count": null,
   "id": "ae93002d",
   "metadata": {},
   "outputs": [],
   "source": [
    "date0 = datetime(2020,1,1)\n",
    "date1 = datetime(2020,1,2)\n",
    "\n",
    "dfd = df[(df.d >= date0) * (df.d <= date1)]\n",
    "im2_idx = np.unique(dfd.i)\n",
    "print(len(im2_idx), 'images in the date range')\n",
    "min_time_diff = 0.1\n",
    "max_time_diff = 7\n",
    "min_size = 10\n",
    "r_min = 0.1\n",
    "a_max = 500e6\n",
    "\n"
   ]
  },
  {
   "cell_type": "code",
   "execution_count": null,
   "id": "79f0fa97",
   "metadata": {},
   "outputs": [],
   "source": [
    "get_rgps_pairs_im2 = GetRgpsPairsIm2(df, max_time_diff, min_time_diff, min_size, r_min, a_max)\n",
    "pairs = list(map(get_rgps_pairs_im2, im2_idx))\n",
    "pairs = [j for i in pairs for j in i]"
   ]
  },
  {
   "cell_type": "code",
   "execution_count": null,
   "id": "0af1f1f8",
   "metadata": {},
   "outputs": [],
   "source": [
    "pair_sizes = [p.x0.size for p in pairs]"
   ]
  },
  {
   "cell_type": "code",
   "execution_count": null,
   "id": "6478a57c",
   "metadata": {},
   "outputs": [],
   "source": [
    "defors = [get_deformation_from_pair(p) for p in pairs]"
   ]
  },
  {
   "cell_type": "code",
   "execution_count": null,
   "id": "7814ca6a",
   "metadata": {},
   "outputs": [],
   "source": [
    "for p, d in zip(pairs, defors):\n",
    "    if p.x0.size < 1000:\n",
    "        continue\n",
    "    fig, axs = plt.subplots(1, 2, figsize=(20, 10))\n",
    "    trp0 = axs[0].tripcolor(p.x0, p.y0, d.e2, triangles=p.t, mask=~p.g, cmap='plasma_r', clim=[0, 0.0001])\n",
    "    plt.colorbar(trp0, ax=axs[0], shrink=0.5)\n",
    "    u, v = p.x1 - p.x0, p.y1 - p.y0\n",
    "    qui1 = axs[1].quiver(p.x0, p.y0, u, v, p.q1, angles='xy', scale_units='xy', scale=0.1, cmap='jet', clim=[0,1])\n",
    "    plt.colorbar(qui1, ax=axs[1], shrink=0.5)\n",
    "    for ax in axs:\n",
    "        ax.set_aspect('equal')\n",
    "        ax.set_title(f'{p.d0} - {p.d1}')\n",
    "    plt.show()\n"
   ]
  },
  {
   "cell_type": "code",
   "execution_count": null,
   "id": "afc7167d",
   "metadata": {},
   "outputs": [],
   "source": []
  }
 ],
 "metadata": {
  "kernelspec": {
   "display_name": "icetorch",
   "language": "python",
   "name": "python3"
  },
  "language_info": {
   "codemirror_mode": {
    "name": "ipython",
    "version": 3
   },
   "file_extension": ".py",
   "mimetype": "text/x-python",
   "name": "python",
   "nbconvert_exporter": "python",
   "pygments_lexer": "ipython3",
   "version": "3.12.11"
  }
 },
 "nbformat": 4,
 "nbformat_minor": 5
}
