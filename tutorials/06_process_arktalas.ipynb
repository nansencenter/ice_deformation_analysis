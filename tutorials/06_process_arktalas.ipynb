{
 "cells": [
  {
   "cell_type": "markdown",
   "metadata": {},
   "source": [
    "# Converting database to pandas DataFrame\n",
    "```Python\n",
    "with read_engine.connect() as conn:\n",
    "    conn.execute(text(\"SET TRANSACTION ISOLATION LEVEL READ COMMITTED\"))\n",
    "\n",
    "    # Read only the filtered points from the database\n",
    "    points = gpd.read_postgis(\n",
    "        sql_query,\n",
    "        conn,\n",
    "        geom_col='geometry'\n",
    "    )\n",
    "\n",
    "# 'points' contains only the data for trajectories with more than 1 point\n",
    "points_df = pd.DataFrame(points.drop(columns=['geometry', 'descriptors']))\n",
    "points_df['x'] = points.geometry.x\n",
    "points_df['y'] = points.geometry.y\n",
    "\n",
    "points_df.to_feather('points.feather')\n",
    "```"
   ]
  },
  {
   "cell_type": "code",
   "execution_count": null,
   "metadata": {},
   "outputs": [],
   "source": [
    "from datetime import datetime\n",
    "from multiprocessing import Pool\n",
    "\n",
    "import numpy as np\n",
    "import pandas as pd\n",
    "import matplotlib.pyplot as plt\n",
    "\n",
    "from pysida.lib import GetSatPairs, get_deformation_from_pair, get_nn_distances\n",
    "\n",
    "DAYS_IN_SECONDS = 24 * 60 * 60"
   ]
  },
  {
   "cell_type": "code",
   "execution_count": null,
   "metadata": {},
   "outputs": [],
   "source": [
    "# Read feather file and convert to a DataFrame usable by pysida\n",
    "feather_file = '../points.feather'\n",
    "points = pd.read_feather(feather_file)\n",
    "df = points[['image_id', 'trajectory_id', 'time', 'x', 'y', 'corr']].copy().rename(columns={'image_id':'i', 'trajectory_id': 'g', 'time':'d', 'x':'x', 'y':'y', 'corr':'q'})"
   ]
  },
  {
   "cell_type": "code",
   "execution_count": null,
   "metadata": {},
   "outputs": [],
   "source": [
    "date_begin = datetime(2020, 1, 10)\n",
    "date_end = datetime(2020, 1, 15)\n",
    "\n",
    "pairs_list = []\n",
    "defors_list =[]\n",
    "\n",
    "# get pairs without or with filtering by poisson disk\n",
    "for poisson_disk_radius in [None, 2000]:\n",
    "    # Get pairs for a short period of time\n",
    "    gsp = GetSatPairs(df, poisson_disk_radius=poisson_disk_radius)\n",
    "    pairs = gsp.get_all_pairs(date_begin, date_end)\n",
    "\n",
    "    # compute deformation for selected pairs\n",
    "    with Pool(4) as p:\n",
    "        defors = p.map(get_deformation_from_pair, pairs)\n",
    "\n",
    "    pairs_list.append(pairs)\n",
    "    defors_list.append(defors)"
   ]
  },
  {
   "cell_type": "code",
   "execution_count": null,
   "metadata": {},
   "outputs": [],
   "source": [
    "for pairs, defors in zip(pairs_list, defors_list):\n",
    "    # get sizes and time differences of pairs\n",
    "    sizes = [pair.x0.size for pair in pairs]\n",
    "    time_difs = [(pair.d1 - pair.d0).total_seconds()/ DAYS_IN_SECONDS for pair in pairs]\n",
    "\n",
    "    # plot deformation, drift, histograms of differences between points and deformation\n",
    "    for pair, defor in zip(pairs, defors):\n",
    "        if pair.d0 == pd.Timestamp('2020-01-05 16:12:33') and pair.d1 == pd.Timestamp('2020-01-10 16:20:45'):\n",
    "            distances = get_nn_distances(pair)        \n",
    "            fig, axs = plt.subplots(1, 5, figsize=(18, 4))\n",
    "            qui0 = axs[0].quiver(pair.x0, pair.y0, pair.x1 - pair.x0, pair.y1 - pair.y0, angles='xy', scale_units='xy', scale=1, color='k', width=0.002)\n",
    "            axs[0].set_aspect('equal')\n",
    "\n",
    "            trp1 = axs[1].tripcolor(pair.x0, pair.y0, pair.t, defor.e2 * 24 * 60 * 60, clim=[0,0.1], mask=~pair.g, cmap='plasma_r')\n",
    "            plt.colorbar(trp1, ax=axs[1], shrink=0.5, label='Deformation rate (m/day)')\n",
    "            axs[1].set_aspect('equal')\n",
    "\n",
    "            _ = axs[2].hist(distances, bins=50)\n",
    "\n",
    "            _ = axs[3].hist2d(sizes, time_difs, bins=[50, 50], cmap='jet', cmin=1)\n",
    "\n",
    "            _ = axs[4].hist(pair.a[pair.g], bins=50, range=[0, 0.5e8])\n",
    "            plt.show()\n",
    "            break        "
   ]
  },
  {
   "cell_type": "code",
   "execution_count": null,
   "metadata": {},
   "outputs": [],
   "source": [
    "plt.figure(figsize=(4, 4))\n",
    "for pairs, defors in zip(pairs_list, defors_list):\n",
    "    # get sizes and time differences of pairs and plot\n",
    "    sizes = [pair.x0.size for pair in pairs]\n",
    "    time_difs = [(pair.d1 - pair.d0).total_seconds()/ DAYS_IN_SECONDS for pair in pairs]\n",
    "\n",
    "    # plot deformation, drift, histograms of differences between points and deformation\n",
    "    for pair, defor in zip(pairs, defors):\n",
    "        if pair.d0 == pd.Timestamp('2020-01-05 16:12:33') and pair.d1 == pd.Timestamp('2020-01-10 16:20:45'):\n",
    "            plt.hist(np.log10(defor.e2[pair.g] * 24 * 60 * 60), bins=50, range=[-3.5, -0.5], alpha=0.5)\n"
   ]
  }
 ],
 "metadata": {
  "kernelspec": {
   "display_name": "ice",
   "language": "python",
   "name": "python3"
  },
  "language_info": {
   "codemirror_mode": {
    "name": "ipython",
    "version": 3
   },
   "file_extension": ".py",
   "mimetype": "text/x-python",
   "name": "python",
   "nbconvert_exporter": "python",
   "pygments_lexer": "ipython3",
   "version": "3.13.3"
  }
 },
 "nbformat": 4,
 "nbformat_minor": 2
}
