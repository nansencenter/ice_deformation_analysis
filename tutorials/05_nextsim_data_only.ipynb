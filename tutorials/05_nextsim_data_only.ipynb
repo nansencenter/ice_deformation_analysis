{
 "cells": [
  {
   "cell_type": "code",
   "execution_count": null,
   "metadata": {},
   "outputs": [],
   "source": [
    "from datetime import datetime\n",
    "import numpy as np\n",
    "import matplotlib.pyplot as plt\n",
    "\n",
    "from datetime import datetime\n",
    "\n",
    "from pysida.scripts.d_compute_deformation import Runner as Runner_d\n",
    "from pysida.scripts.j_find_nextsim_pairs import Runner as Runner_j"
   ]
  },
  {
   "cell_type": "code",
   "execution_count": null,
   "metadata": {},
   "outputs": [],
   "source": [
    "nextsim_dir = '../sa10free_mat04'\n",
    "\n",
    "date_begin = datetime(2007,1,1)\n",
    "date_end = datetime(2007,1,10)\n",
    "freq = '3D'\n",
    "pfile = f'{nextsim_dir}/mat00_nn_pairs.npz'"
   ]
  },
  {
   "cell_type": "code",
   "execution_count": null,
   "metadata": {},
   "outputs": [],
   "source": [
    "# create nextsim pairs from snapshots\n",
    "pfile = Runner_j()(nextsim_dir, date_begin, date_end, freq, pfile)\n",
    "# compute deformation on neXtSIM Pairs\n",
    "dfile = Runner_d()(pfile)"
   ]
  },
  {
   "cell_type": "code",
   "execution_count": null,
   "metadata": {},
   "outputs": [],
   "source": [
    "with np.load(pfile, allow_pickle=True) as f:\n",
    "    pairs = f['pairs']\n",
    "dfile = pfile.replace('_pairs.npz', '_defor.npz')\n",
    "with np.load(dfile, allow_pickle=True) as f:\n",
    "    defor = f['defor']\n",
    "\n",
    "for p, d in zip(pairs, defor):\n",
    "    if date_begin <= p.d0 <= date_end:\n",
    "        fig, axs = plt.subplots(1, 1, figsize=(10, 10)) \n",
    "        axs.tripcolor(p.x0, p.y0, p.t, d.e2 * 24 * 60 * 60, mask=~p.g, cmap='plasma_r', vmin=0, vmax=0.1)\n",
    "        axs.set_aspect('equal')\n",
    "        axs.set_title(f'neXtSIM {p.d0}', fontsize=10)\n",
    "        plt.show()"
   ]
  },
  {
   "cell_type": "code",
   "execution_count": null,
   "metadata": {},
   "outputs": [],
   "source": []
  }
 ],
 "metadata": {
  "kernelspec": {
   "display_name": "ice",
   "language": "python",
   "name": "python3"
  },
  "language_info": {
   "codemirror_mode": {
    "name": "ipython",
    "version": 3
   },
   "file_extension": ".py",
   "mimetype": "text/x-python",
   "name": "python",
   "nbconvert_exporter": "python",
   "pygments_lexer": "ipython3",
   "version": "3.13.3"
  }
 },
 "nbformat": 4,
 "nbformat_minor": 2
}
