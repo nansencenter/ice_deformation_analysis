{
 "cells": [
  {
   "cell_type": "code",
   "execution_count": null,
   "metadata": {},
   "outputs": [],
   "source": [
    "from datetime import datetime\n",
    "\n",
    "from pysida.scripts.a_convert_rgps_csv import Runner as Runner_a\n",
    "from pysida.scripts.b_find_rgps_pairs import Runner as Runner_b\n",
    "from pysida.scripts.d_compute_deformation import Runner as Runner_d\n",
    "from pysida.scripts.e_compute_anisotropy import Runner as Runner_e\n",
    "from pysida.scripts.f_compute_texture import Runner as Runner_f\n",
    "from pysida.scripts.g_spatial_scaling import Runner as Runner_g\n",
    "from pysida.scripts.h_detect_lkfs import Runner as Runner_h\n",
    "from pysida.scripts.i_lkf_statistics import Runner as Runner_i"
   ]
  },
  {
   "cell_type": "code",
   "execution_count": null,
   "metadata": {},
   "outputs": [],
   "source": [
    "csv_ifile = '../rgps/csv/w07_may_LP.csv'\n",
    "date_begin = datetime(2007, 1, 1)\n",
    "date_end = datetime(2007, 1, 31)\n",
    "freq = '3D'"
   ]
  },
  {
   "cell_type": "code",
   "execution_count": null,
   "metadata": {},
   "outputs": [],
   "source": [
    "# convert RGPS CSV with trajectories to pandas DataFrame and save\n",
    "pd_file = Runner_a()(csv_ifile)\n",
    "# find Pairs on RGPS data\n",
    "pfile = Runner_b()(pd_file, date_begin, date_end)\n",
    "# compute deformation on RGPS Pairs\n",
    "dfile = Runner_d()(pfile)\n",
    "# compute anisotropy on RGPS deformation\n",
    "afile = Runner_e()(pfile)\n",
    "# compute texture features on RGPS data\n",
    "tfile = Runner_f()(pfile)\n",
    "# compute texture features on RGPS data\n",
    "tfile = Runner_f()(pfile)\n",
    "# compute spatial scaling on RGPS data\n",
    "sfile = Runner_g()(pfile, date_begin, date_end, freq)\n",
    "# detect LKFs on RGPS data\n",
    "lfile = Runner_h()(pfile, date_begin, date_end, freq)\n",
    "# compute intersection angles and other statistics on LKFs from RGPS data\n",
    "sfile = Runner_i()(lfile)\n"
   ]
  }
 ],
 "metadata": {
  "kernelspec": {
   "display_name": "ice2",
   "language": "python",
   "name": "python3"
  },
  "language_info": {
   "codemirror_mode": {
    "name": "ipython",
    "version": 3
   },
   "file_extension": ".py",
   "mimetype": "text/x-python",
   "name": "python",
   "nbconvert_exporter": "python",
   "pygments_lexer": "ipython3",
   "version": "3.12.7"
  }
 },
 "nbformat": 4,
 "nbformat_minor": 2
}
