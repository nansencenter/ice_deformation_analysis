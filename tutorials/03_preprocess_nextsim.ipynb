{
 "cells": [
  {
   "cell_type": "code",
   "execution_count": null,
   "metadata": {},
   "outputs": [],
   "source": [
    "from datetime import datetime\n",
    "\n",
    "from pysida.scripts.c_sample_nextsim_on_sat_pairs import Runner as RunnerSample\n",
    "from pysida.scripts.c_collocate_nextsim_sat_pairs import Runner as RunnerCollocate\n",
    "\n",
    "from pysida.scripts.d_compute_deformation import Runner as RunnerDeformation\n",
    "from pysida.scripts.j_find_nextsim_pairs import Runner as RunnerNextsimPairs"
   ]
  },
  {
   "cell_type": "code",
   "execution_count": null,
   "metadata": {},
   "outputs": [],
   "source": [
    "rgps_file = '../test/w07_may_20070131_pairs.npz'\n",
    "out_dir = '../test'\n",
    "\n",
    "nextsim_dir_10 = '../binfiles/sa10free_mat00'\n",
    "nextsim_dir_20 = '../binfiles/sa20free_mat00'\n",
    "\n",
    "ofile_nex_10 = f'{out_dir}/nex10_pairs.npz'\n",
    "\n",
    "ofile_sat_20 = f'{out_dir}/sat20_pairs.npz'\n",
    "ofile_nex_20 = f'{out_dir}/nex20_pairs.npz'\n",
    "\n",
    "ofile_nex_nex = f'{out_dir}/nex_nex_pairs.npz'\n",
    "\n",
    "date_begin = datetime(2007,1,5)\n",
    "date_end = datetime(2007,1,15)\n",
    "freq = '3D'\n",
    "\n",
    "force = True"
   ]
  },
  {
   "cell_type": "code",
   "execution_count": null,
   "metadata": {},
   "outputs": [],
   "source": [
    "# sample nextsim around RGPS pairs\n",
    "runner = RunnerSample(force=force, resolution=10000)\n",
    "runner(rgps_file, nextsim_dir_10, ofile_nex_10)"
   ]
  },
  {
   "cell_type": "code",
   "execution_count": null,
   "metadata": {},
   "outputs": [],
   "source": [
    "# collocate pairs at nextsim resolution\n",
    "runner = RunnerCollocate(force=force, resolution=20000)\n",
    "runner(rgps_file, nextsim_dir_20, ofile_sat_20, ofile_nex_20)"
   ]
  },
  {
   "cell_type": "code",
   "execution_count": null,
   "metadata": {},
   "outputs": [],
   "source": [
    "# create nextsim pairs from snapshots\n",
    "ofile_nex_nex = RunnerNextsimPairs(force=force)(nextsim_dir_10, date_begin, date_end, freq, ofile_nex_nex)"
   ]
  },
  {
   "cell_type": "code",
   "execution_count": null,
   "metadata": {},
   "outputs": [],
   "source": [
    "# compute deformation on all Pairs\n",
    "dfile_nex_10 = RunnerDeformation(force=force)(ofile_nex_10)\n",
    "dfile_sat_20 = RunnerDeformation(force=force)(ofile_sat_20)\n",
    "dfile_nex_20 = RunnerDeformation(force=force)(ofile_nex_20)\n",
    "dfile_nex_nex = RunnerDeformation(force=force)(ofile_nex_nex)"
   ]
  },
  {
   "cell_type": "code",
   "execution_count": null,
   "metadata": {},
   "outputs": [],
   "source": [
    "# the rest of the processing of the generated pairs is similar to the RGPS. See 01_preprocess_rgps.ipynb"
   ]
  }
 ],
 "metadata": {
  "kernelspec": {
   "display_name": "ice",
   "language": "python",
   "name": "python3"
  },
  "language_info": {
   "codemirror_mode": {
    "name": "ipython",
    "version": 3
   },
   "file_extension": ".py",
   "mimetype": "text/x-python",
   "name": "python",
   "nbconvert_exporter": "python",
   "pygments_lexer": "ipython3",
   "version": "3.13.3"
  }
 },
 "nbformat": 4,
 "nbformat_minor": 2
}
