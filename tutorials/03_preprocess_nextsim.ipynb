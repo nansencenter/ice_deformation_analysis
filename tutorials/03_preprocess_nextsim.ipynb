{
 "cells": [
  {
   "cell_type": "code",
   "execution_count": null,
   "metadata": {},
   "outputs": [],
   "source": [
    "from datetime import datetime\n",
    "\n",
    "from pysida.scripts.c_merge_nextsim_rgps import Runner as Runner_c\n",
    "from pysida.scripts.d_compute_deformation import Runner as Runner_d\n",
    "from pysida.scripts.j_find_nextsim_pairs import Runner as Runner_j"
   ]
  },
  {
   "cell_type": "code",
   "execution_count": null,
   "metadata": {},
   "outputs": [],
   "source": [
    "pfile = '../rgps/csv/w07_may_20070131_pairs.npz'\n",
    "nextsim_dir = '../sa20free_mat00'\n",
    "out_dir = '../cfg05/'\n",
    "ofile1 = f'{out_dir}/mat00_rn_pairs.npz'\n",
    "\n",
    "date_begin = datetime(2007,1,1)\n",
    "date_end = datetime(2007,1,10)\n",
    "freq = '3D'\n",
    "ofile2 = f'{out_dir}/mat00_nn_pairs.npz'"
   ]
  },
  {
   "cell_type": "code",
   "execution_count": null,
   "metadata": {},
   "outputs": [],
   "source": [
    "# merge nextsim outputs (a run at 20 km resolution) with RGPS and make pairs similar to RGPS\n",
    "pfile1 = Runner_c(resolution=20000)(pfile, nextsim_dir, ofile1)\n",
    "# compute deformation on neXtSIM Pairs\n",
    "dfile1 = Runner_d()(pfile1)"
   ]
  },
  {
   "cell_type": "code",
   "execution_count": null,
   "metadata": {},
   "outputs": [],
   "source": [
    "# create nextsim pairs from snapshots\n",
    "pfile2 = Runner_j(a_max=800000000)(nextsim_dir, date_begin, date_end, freq, ofile2)\n",
    "# compute deformation on neXtSIM Pairs\n",
    "dfile2 = Runner_d()(pfile2)"
   ]
  },
  {
   "cell_type": "code",
   "execution_count": null,
   "metadata": {},
   "outputs": [],
   "source": [
    "# the rest of the processing of the generated pairs is similar to the RGPS. See 01_preprocess_rgps.ipynb"
   ]
  }
 ],
 "metadata": {
  "kernelspec": {
   "display_name": "ice",
   "language": "python",
   "name": "python3"
  },
  "language_info": {
   "codemirror_mode": {
    "name": "ipython",
    "version": 3
   },
   "file_extension": ".py",
   "mimetype": "text/x-python",
   "name": "python",
   "nbconvert_exporter": "python",
   "pygments_lexer": "ipython3",
   "version": "3.13.3"
  }
 },
 "nbformat": 4,
 "nbformat_minor": 2
}
