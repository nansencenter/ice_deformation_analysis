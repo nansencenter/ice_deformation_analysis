{
 "cells": [
  {
   "cell_type": "code",
   "execution_count": 1,
   "metadata": {},
   "outputs": [],
   "source": [
    "from datetime import datetime\n",
    "\n",
    "from pysida.scripts.c_merge_nextsim_rgps import Runner as Runner_c\n",
    "from pysida.scripts.d_compute_deformation import Runner as Runner_d\n",
    "from pysida.scripts.j_find_nextsim_pairs import Runner as Runner_j"
   ]
  },
  {
   "cell_type": "code",
   "execution_count": 2,
   "metadata": {},
   "outputs": [],
   "source": [
    "pfile = '../../../rgps/csv/w07_may_pairs.npz'\n",
    "nextsim_dir = '../../../music_matrix/cfg01_m20/sa10free_mat00'\n",
    "ofile1 = f'{nextsim_dir}/mat00_rn_pairs.npz'\n",
    "\n",
    "date_begin = datetime(2007,1,1)\n",
    "date_end = datetime(2007,1,10)\n",
    "freq = '3D'\n",
    "ofile2 = f'{nextsim_dir}/mat00_nn_pairs.npz'"
   ]
  },
  {
   "cell_type": "code",
   "execution_count": 3,
   "metadata": {},
   "outputs": [
    {
     "name": "stdout",
     "output_type": "stream",
     "text": [
      "../../../music_matrix/cfg01_m20/sa10free_mat00/mat00_rn_pairs.npz N pairs: 1349\n",
      "../../../music_matrix/cfg01_m20/sa10free_mat00/mat00_rn_defor.npz\n"
     ]
    }
   ],
   "source": [
    "# merge nextsim outputs with RGPS and make pairs similar to RGPS\n",
    "pfile1 = Runner_c()(pfile, nextsim_dir, ofile1)\n",
    "# compute deformation on neXtSIM Pairs\n",
    "dfile1 = Runner_d()(pfile1)"
   ]
  },
  {
   "cell_type": "code",
   "execution_count": 4,
   "metadata": {},
   "outputs": [
    {
     "name": "stdout",
     "output_type": "stream",
     "text": [
      "N pairs 3 ../../../music_matrix/cfg01_m20/sa10free_mat00/mat00_nn_pairs.npz\n",
      "../../../music_matrix/cfg01_m20/sa10free_mat00/mat00_nn_defor.npz\n"
     ]
    }
   ],
   "source": [
    "# create nextsim pairs from snapshots\n",
    "pfile2 = Runner_j()(nextsim_dir, date_begin, date_end, freq, ofile2)\n",
    "# compute deformation on neXtSIM Pairs\n",
    "dfile2 = Runner_d()(pfile2)"
   ]
  },
  {
   "cell_type": "code",
   "execution_count": 5,
   "metadata": {},
   "outputs": [],
   "source": [
    "# the rest of the processing of the generated pairs is similar to the RGPS. See 01_preprocess_rgps.ipynb"
   ]
  }
 ],
 "metadata": {
  "kernelspec": {
   "display_name": "ice",
   "language": "python",
   "name": "python3"
  },
  "language_info": {
   "codemirror_mode": {
    "name": "ipython",
    "version": 3
   },
   "file_extension": ".py",
   "mimetype": "text/x-python",
   "name": "python",
   "nbconvert_exporter": "python",
   "pygments_lexer": "ipython3",
   "version": "3.12.3"
  }
 },
 "nbformat": 4,
 "nbformat_minor": 2
}
